{
 "cells": [
  {
   "cell_type": "code",
   "execution_count": 47,
   "id": "efde4fb4",
   "metadata": {},
   "outputs": [
    {
     "name": "stderr",
     "output_type": "stream",
     "text": [
      "[nltk_data] Downloading package punkt to\n",
      "[nltk_data]     C:\\Users\\Lenovo\\AppData\\Roaming\\nltk_data...\n",
      "[nltk_data]   Package punkt is already up-to-date!\n",
      "[nltk_data] Downloading package averaged_perceptron_tagger to\n",
      "[nltk_data]     C:\\Users\\Lenovo\\AppData\\Roaming\\nltk_data...\n",
      "[nltk_data]   Package averaged_perceptron_tagger is already up-to-\n",
      "[nltk_data]       date!\n",
      "[nltk_data] Downloading package wordnet to\n",
      "[nltk_data]     C:\\Users\\Lenovo\\AppData\\Roaming\\nltk_data...\n",
      "[nltk_data]   Package wordnet is already up-to-date!\n"
     ]
    },
    {
     "name": "stdout",
     "output_type": "stream",
     "text": [
      "CEFR Level Classification results written to: cefr_classification_results.txt\n"
     ]
    }
   ],
   "source": [
    "import nltk\n",
    "from nltk.corpus import wordnet as wn\n",
    "from nltk.stem import WordNetLemmatizer\n",
    "from collections import defaultdict\n",
    "\n",
    "# Download NLTK resources if not already downloaded\n",
    "nltk.download('punkt')\n",
    "nltk.download('averaged_perceptron_tagger')\n",
    "nltk.download('wordnet')\n",
    "\n",
    "# Create a WordNetLemmatizer instance\n",
    "lemma = WordNetLemmatizer()\n",
    "\n",
    "def get_word_level(word):\n",
    "  \"\"\"\n",
    "  Assigns a score to a word based on its POS tag after lemmatization\n",
    "  \"\"\"\n",
    "  # Lemmatize the word\n",
    "  lemma_word = lemma.lemmatize(word)\n",
    "  synsets = wn.synsets(lemma_word)  # Use wn.synsets for synsets\n",
    "  if synsets:\n",
    "    pos = wn.synsets(lemma_word)[0].pos() if len(synsets) > 0 else None  # Access POS from first synset\n",
    "    if pos in ('n', 'NN', 'NNS'):  # Nouns (lower score)\n",
    "      score = 0.2\n",
    "    elif pos in ('v', 'VB', 'VBD', 'VBG', 'VBP', 'VBZ'):  # Verbs (higher score)\n",
    "      score = 0.8\n",
    "    else:  # Other parts of speech (medium score)\n",
    "      score = 0.5\n",
    "    return score\n",
    "  return None\n",
    "\n",
    "def classify_words(text):\n",
    "  \"\"\"\n",
    "  Classifies words based on score-based thresholds and potential fallback\n",
    "  \"\"\"\n",
    "  tokens = nltk.word_tokenize(text)\n",
    "  tagged = nltk.pos_tag(tokens)\n",
    "\n",
    "  classified_words = defaultdict(list)  # Improved data structure for word lists\n",
    "\n",
    "  for word, pos in tagged:\n",
    "    level = get_word_level(word)\n",
    "    if level is not None:\n",
    "      if level >= 0.8:  # Potential C1/C2 threshold (adjust as needed)\n",
    "        classified_words['C1/C2'].append(word)\n",
    "      elif level <= 0.4:  # a1-a2 (combined)\n",
    "        classified_words['A1/A2'].append(word)\n",
    "      else:  # b1-b2 (combined)\n",
    "        classified_words['B1/B2'].append(word)\n",
    "  return classified_words\n",
    "\n",
    "def read_text_file(filename):\n",
    "  \"\"\"\n",
    "  Reads the contents of a text file and returns the text as a string\n",
    "  \"\"\"\n",
    "  with open(filename, 'r') as f:\n",
    "    text = f.read()\n",
    "  return text\n",
    "\n",
    "def write_results_to_file(results, filename):\n",
    "  \"\"\"\n",
    "  Writes classification results to a text file\n",
    "  \"\"\"\n",
    "  with open(filename, 'w') as f:\n",
    "    f.write(\"CEFR Level Classification (score-based thresholds):\\n\")\n",
    "    for level, words in results.items():\n",
    "      f.write(f\"{level}: {words}\\n\")\n",
    "\n",
    "# Specify the filename of your text file and output file\n",
    "text_file = \"input_text.txt\"\n",
    "output_file = \"cefr_classification_results.txt\"  # Replace with your desired output filename\n",
    "\n",
    "# Read text from the file\n",
    "text = read_text_file(text_file)\n",
    "\n",
    "# Classify words\n",
    "word_lists = classify_words(text)\n",
    "\n",
    "# Write results to a text file\n",
    "write_results_to_file(word_lists, output_file)\n",
    "\n",
    "print(f\"CEFR Level Classification results written to: {output_file}\")\n"
   ]
  },
  {
   "cell_type": "code",
   "execution_count": null,
   "id": "87ecc000",
   "metadata": {},
   "outputs": [],
   "source": []
  },
  {
   "cell_type": "code",
   "execution_count": null,
   "id": "7e4d1945",
   "metadata": {},
   "outputs": [],
   "source": []
  },
  {
   "cell_type": "code",
   "execution_count": null,
   "id": "f57e0027",
   "metadata": {},
   "outputs": [],
   "source": []
  }
 ],
 "metadata": {
  "kernelspec": {
   "display_name": "Python 3 (ipykernel)",
   "language": "python",
   "name": "python3"
  },
  "language_info": {
   "codemirror_mode": {
    "name": "ipython",
    "version": 3
   },
   "file_extension": ".py",
   "mimetype": "text/x-python",
   "name": "python",
   "nbconvert_exporter": "python",
   "pygments_lexer": "ipython3",
   "version": "3.11.5"
  }
 },
 "nbformat": 4,
 "nbformat_minor": 5
}
